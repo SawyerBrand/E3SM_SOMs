{
 "cells": [
  {
   "cell_type": "code",
   "execution_count": 2,
   "id": "49d61da7-07e0-4690-aadb-671720d43c37",
   "metadata": {},
   "outputs": [],
   "source": [
    "import minisom"
   ]
  },
  {
   "cell_type": "code",
   "execution_count": 3,
   "id": "c4fba243-848b-4e71-873b-5c96db747e54",
   "metadata": {},
   "outputs": [],
   "source": [
    "## minisom uses data organized into a numpy matrix where each row corresponds to an observation or as a list of lists\n",
    "## example:\n",
    "\n",
    "data = [[ 0.80,  0.55,  0.22,  0.03],\n",
    "        [ 0.82,  0.50,  0.23,  0.03],\n",
    "        [ 0.80,  0.54,  0.22,  0.03],\n",
    "        [ 0.80,  0.53,  0.26,  0.03],\n",
    "        [ 0.79,  0.56,  0.22,  0.03],\n",
    "        [ 0.75,  0.60,  0.25,  0.03],\n",
    "        [ 0.77,  0.59,  0.22,  0.03]]      "
   ]
  },
  {
   "cell_type": "code",
   "execution_count": 4,
   "id": "d169078f-cfd7-42c7-bc4d-51788bbb93d7",
   "metadata": {},
   "outputs": [],
   "source": [
    "## training the minisom:\n",
    "\n",
    "# initialize a 6x6 SOM\n",
    "from minisom import MiniSom\n",
    "som = MiniSom(6,6,4,sigma=0.3,learning_rate = 0.5)\n"
   ]
  },
  {
   "cell_type": "code",
   "execution_count": null,
   "id": "278b182d-995d-4591-ab9c-ad8fe20306d4",
   "metadata": {},
   "outputs": [],
   "source": []
  }
 ],
 "metadata": {
  "kernelspec": {
   "display_name": "Python 3",
   "language": "python",
   "name": "python3"
  },
  "language_info": {
   "codemirror_mode": {
    "name": "ipython",
    "version": 3
   },
   "file_extension": ".py",
   "mimetype": "text/x-python",
   "name": "python",
   "nbconvert_exporter": "python",
   "pygments_lexer": "ipython3",
   "version": "3.8.8"
  }
 },
 "nbformat": 4,
 "nbformat_minor": 5
}
